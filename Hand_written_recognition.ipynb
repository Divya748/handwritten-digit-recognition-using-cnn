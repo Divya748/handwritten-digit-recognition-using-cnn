{
  "nbformat": 4,
  "nbformat_minor": 0,
  "metadata": {
    "colab": {
      "name": "Hand_written_recognition.ipynb",
      "provenance": []
    },
    "kernelspec": {
      "name": "python3",
      "display_name": "Python 3"
    },
    "language_info": {
      "name": "python"
    },
    "accelerator": "GPU"
  },
  "cells": [
    {
      "cell_type": "code",
      "metadata": {
        "id": "yQrDdrHPwsNk"
      },
      "source": [
        "import tensorflow as tf\n",
        "data=tf.keras.datasets.mnist"
      ],
      "execution_count": 1,
      "outputs": []
    },
    {
      "cell_type": "code",
      "metadata": {
        "id": "s2BF4DjQx29Z"
      },
      "source": [
        "(x_train,y_train),(x_test,y_test)=data.load_data()"
      ],
      "execution_count": 2,
      "outputs": []
    },
    {
      "cell_type": "code",
      "metadata": {
        "colab": {
          "base_uri": "https://localhost:8080/"
        },
        "id": "AN0SQA5cyHzt",
        "outputId": "05f28783-bbc1-49d2-9f7b-1dafd2314f51"
      },
      "source": [
        "x_train.shape"
      ],
      "execution_count": 3,
      "outputs": [
        {
          "output_type": "execute_result",
          "data": {
            "text/plain": [
              "(60000, 28, 28)"
            ]
          },
          "metadata": {},
          "execution_count": 3
        }
      ]
    },
    {
      "cell_type": "code",
      "metadata": {
        "colab": {
          "base_uri": "https://localhost:8080/"
        },
        "id": "YuQjYd7KyQUE",
        "outputId": "e2a9860a-4157-4a42-8ba4-3ce63ec6a726"
      },
      "source": [
        "y_train.shape"
      ],
      "execution_count": 4,
      "outputs": [
        {
          "output_type": "execute_result",
          "data": {
            "text/plain": [
              "(60000,)"
            ]
          },
          "metadata": {},
          "execution_count": 4
        }
      ]
    },
    {
      "cell_type": "markdown",
      "metadata": {
        "id": "ZCyh2AvhyeMn"
      },
      "source": [
        "**visualizing data**"
      ]
    },
    {
      "cell_type": "code",
      "metadata": {
        "colab": {
          "base_uri": "https://localhost:8080/",
          "height": 265
        },
        "id": "x1rmiwnbyTGK",
        "outputId": "c95eaa0c-9641-4118-8483-42feb9d2bd6e"
      },
      "source": [
        "import matplotlib.pyplot as plt\n",
        "plt.imshow(x_test[0])\n",
        "plt.show()"
      ],
      "execution_count": 5,
      "outputs": [
        {
          "output_type": "display_data",
          "data": {
            "image/png": "[encoded data removed]",
            "text/plain": [
              "<Figure size 432x288 with 1 Axes>"
            ]
          },
          "metadata": {
            "needs_background": "light"
          }
        }
      ]
    },
    {
      "cell_type": "markdown",
      "metadata": {
        "id": "z2hTTfSIy9pf"
      },
      "source": [
        "**Normalize the data**"
      ]
    },
    {
      "cell_type": "code",
      "metadata": {
        "id": "-m42mPSLyy1S"
      },
      "source": [
        "x_train=x_train/255\n",
        "x_test=x_test/255"
      ],
      "execution_count": 6,
      "outputs": []
    },
    {
      "cell_type": "markdown",
      "metadata": {
        "id": "3GJCKfwbzbRu"
      },
      "source": [
        "**Resizing image**"
      ]
    },
    {
      "cell_type": "code",
      "metadata": {
        "id": "wtUODeiPzK4d"
      },
      "source": [
        "import numpy as np\n",
        "x_train=np.array(x_train).reshape((-1, 28, 28, 1))\n",
        "x_test =np.array(x_test).reshape((-1, 28, 28, 1))"
      ],
      "execution_count": 7,
      "outputs": []
    },
    {
      "cell_type": "code",
      "metadata": {
        "colab": {
          "base_uri": "https://localhost:8080/"
        },
        "id": "QqR9hlkJz5g5",
        "outputId": "575fb123-e08d-4a37-e0dc-14a4353afa59"
      },
      "source": [
        "x_train.shape"
      ],
      "execution_count": 8,
      "outputs": [
        {
          "output_type": "execute_result",
          "data": {
            "text/plain": [
              "(60000, 28, 28, 1)"
            ]
          },
          "metadata": {},
          "execution_count": 8
        }
      ]
    },
    {
      "cell_type": "markdown",
      "metadata": {
        "id": "NuX9_HO60gES"
      },
      "source": [
        "**Creating deep neural network**"
      ]
    },
    {
      "cell_type": "code",
      "metadata": {
        "id": "haF2IAcxz7t2"
      },
      "source": [
        "from tensorflow.keras.models import Sequential\n",
        "from tensorflow.keras.layers import Dense, Activation,Flatten,Conv2D,MaxPooling2D"
      ],
      "execution_count": 9,
      "outputs": []
    },
    {
      "cell_type": "code",
      "metadata": {
        "id": "X-t8oBHD0xMr"
      },
      "source": [
        "model=Sequential()\n",
        "\n",
        "#first cnn layer\n",
        "model.add(Conv2D(64, (3, 3), activation='relu', kernel_initializer='he_uniform', input_shape=(28, 28, 1)))\n",
        "model.add(MaxPooling2D((2, 2)))\n",
        "\n",
        "#second cnn layer\n",
        "model.add(Conv2D(64, (3, 3), activation='relu', kernel_initializer='he_uniform'))\n",
        "model.add(MaxPooling2D((2, 2)))\n",
        "\n",
        "#third cnn layer\n",
        "model.add(Conv2D(64, (3, 3), activation='relu', kernel_initializer='he_uniform'))\n",
        "model.add(MaxPooling2D((2, 2)))\n",
        "\n",
        "#fully connected layer-1\n",
        "model.add(Flatten())\n",
        "model.add(Dense(65, activation='relu', kernel_initializer='he_uniform'))\n",
        "\n",
        "#fully connected layer-2\n",
        "model.add(Dense(39, activation='relu', kernel_initializer='he_uniform'))\n",
        "\n",
        "#fully connected layer-3\n",
        "#output layer\n",
        "model.add(Dense(10, activation='softmax'))"
      ],
      "execution_count": 10,
      "outputs": []
    },
    {
      "cell_type": "code",
      "metadata": {
        "colab": {
          "base_uri": "https://localhost:8080/"
        },
        "id": "RuFQyvXa3hsY",
        "outputId": "72280459-e710-4ae9-e85e-543344c0382d"
      },
      "source": [
        "model.summary()"
      ],
      "execution_count": 11,
      "outputs": [
        {
          "output_type": "stream",
          "text": [
            "Model: \"sequential\"\n",
            "_________________________________________________________________\n",
            "Layer (type)                 Output Shape              Param #   \n",
            "=================================================================\n",
            "conv2d (Conv2D)              (None, 26, 26, 64)        640       \n",
            "_________________________________________________________________\n",
            "max_pooling2d (MaxPooling2D) (None, 13, 13, 64)        0         \n",
            "_________________________________________________________________\n",
            "conv2d_1 (Conv2D)            (None, 11, 11, 64)        36928     \n",
            "_________________________________________________________________\n",
            "max_pooling2d_1 (MaxPooling2 (None, 5, 5, 64)          0         \n",
            "_________________________________________________________________\n",
            "conv2d_2 (Conv2D)            (None, 3, 3, 64)          36928     \n",
            "_________________________________________________________________\n",
            "max_pooling2d_2 (MaxPooling2 (None, 1, 1, 64)          0         \n",
            "_________________________________________________________________\n",
            "flatten (Flatten)            (None, 64)                0         \n",
            "_________________________________________________________________\n",
            "dense (Dense)                (None, 65)                4225      \n",
            "_________________________________________________________________\n",
            "dense_1 (Dense)              (None, 39)                2574      \n",
            "_________________________________________________________________\n",
            "dense_2 (Dense)              (None, 10)                400       \n",
            "=================================================================\n",
            "Total params: 81,695\n",
            "Trainable params: 81,695\n",
            "Non-trainable params: 0\n",
            "_________________________________________________________________\n"
          ],
          "name": "stdout"
        }
      ]
    },
    {
      "cell_type": "code",
      "metadata": {
        "id": "YPU9Ekqx3lmC"
      },
      "source": [
        "model.compile(loss=\"sparse_categorical_crossentropy\",optimizer=\"adam\",metrics=[\"accuracy\"])"
      ],
      "execution_count": 12,
      "outputs": []
    },
    {
      "cell_type": "code",
      "metadata": {
        "colab": {
          "base_uri": "https://localhost:8080/"
        },
        "id": "5AZQckah4VPe",
        "outputId": "62b4cc09-0c32-4497-f3c3-a051fd09077e"
      },
      "source": [
        "model.fit(x_train,y_train,epochs=5,validation_split=0.3)"
      ],
      "execution_count": 13,
      "outputs": [
        {
          "output_type": "stream",
          "text": [
            "Epoch 1/5\n",
            "1313/1313 [==============================] - 12s 8ms/step - loss: 0.2570 - accuracy: 0.9199 - val_loss: 0.1128 - val_accuracy: 0.9646\n",
            "Epoch 2/5\n",
            "1313/1313 [==============================] - 9s 7ms/step - loss: 0.0883 - accuracy: 0.9726 - val_loss: 0.0899 - val_accuracy: 0.9724\n",
            "Epoch 3/5\n",
            "1313/1313 [==============================] - 9s 7ms/step - loss: 0.0619 - accuracy: 0.9813 - val_loss: 0.0672 - val_accuracy: 0.9781\n",
            "Epoch 4/5\n",
            "1313/1313 [==============================] - 10s 8ms/step - loss: 0.0508 - accuracy: 0.9841 - val_loss: 0.0722 - val_accuracy: 0.9789\n",
            "Epoch 5/5\n",
            "1313/1313 [==============================] - 10s 8ms/step - loss: 0.0400 - accuracy: 0.9871 - val_loss: 0.0555 - val_accuracy: 0.9830\n"
          ],
          "name": "stdout"
        },
        {
          "output_type": "execute_result",
          "data": {
            "text/plain": [
              "<keras.callbacks.History at 0x7fba202f33d0>"
            ]
          },
          "metadata": {},
          "execution_count": 13
        }
      ]
    },
    {
      "cell_type": "code",
      "metadata": {
        "colab": {
          "base_uri": "https://localhost:8080/"
        },
        "id": "N2S3fepB4hvk",
        "outputId": "6de0587c-aca7-4b6e-8f89-9cc9a15d261e"
      },
      "source": [
        "model.evaluate(x_test,y_test)"
      ],
      "execution_count": 14,
      "outputs": [
        {
          "output_type": "stream",
          "text": [
            "313/313 [==============================] - 1s 4ms/step - loss: 0.0558 - accuracy: 0.9837\n"
          ],
          "name": "stdout"
        },
        {
          "output_type": "execute_result",
          "data": {
            "text/plain": [
              "[0.05583057180047035, 0.9836999773979187]"
            ]
          },
          "metadata": {},
          "execution_count": 14
        }
      ]
    },
    {
      "cell_type": "code",
      "metadata": {
        "id": "nnAsAxRx5GSM"
      },
      "source": [
        "y_pred=model.predict([x_test])"
      ],
      "execution_count": 15,
      "outputs": []
    },
    {
      "cell_type": "code",
      "metadata": {
        "colab": {
          "base_uri": "https://localhost:8080/"
        },
        "id": "uAZ4Kmmm5rch",
        "outputId": "9614feca-3f8d-483c-a21d-ef964acd7a98"
      },
      "source": [
        "print(np.argmax(y_pred[178]))"
      ],
      "execution_count": 20,
      "outputs": [
        {
          "output_type": "stream",
          "text": [
            "1\n"
          ],
          "name": "stdout"
        }
      ]
    },
    {
      "cell_type": "code",
      "metadata": {
        "id": "8wUJmWPy52Qu"
      },
      "source": [
        "x_test=x_test.reshape(-1,28,28)\n"
      ],
      "execution_count": 17,
      "outputs": []
    },
    {
      "cell_type": "code",
      "metadata": {
        "id": "nn8qw21s6Q-J",
        "colab": {
          "base_uri": "https://localhost:8080/"
        },
        "outputId": "a6676cdb-7580-451c-e816-c176a88df21b"
      },
      "source": [
        "x_test.shape"
      ],
      "execution_count": 18,
      "outputs": [
        {
          "output_type": "execute_result",
          "data": {
            "text/plain": [
              "(10000, 28, 28)"
            ]
          },
          "metadata": {},
          "execution_count": 18
        }
      ]
    },
    {
      "cell_type": "code",
      "metadata": {
        "colab": {
          "base_uri": "https://localhost:8080/",
          "height": 282
        },
        "id": "aTv03KjUH5om",
        "outputId": "81138e59-9cc5-4ca5-d364-1c12ac611c0d"
      },
      "source": [
        "plt.imshow(x_test[178])"
      ],
      "execution_count": 21,
      "outputs": [
        {
          "output_type": "execute_result",
          "data": {
            "text/plain": [
              "<matplotlib.image.AxesImage at 0x7fb9839d31d0>"
            ]
          },
          "metadata": {},
          "execution_count": 21
        },
        {
          "output_type": "display_data",
          "data": {
            "image/png": "[encoded data removed]",
            "text/plain": [
              "<Figure size 432x288 with 1 Axes>"
            ]
          },
          "metadata": {
            "needs_background": "light"
          }
        }
      ]
    },
    {
      "cell_type": "code",
      "metadata": {
        "id": "s96CuAaMKhIc"
      },
      "source": [
        ""
      ],
      "execution_count": null,
      "outputs": []
    }
  ]
}